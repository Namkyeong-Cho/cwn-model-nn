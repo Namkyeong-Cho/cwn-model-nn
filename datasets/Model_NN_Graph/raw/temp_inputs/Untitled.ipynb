{
 "cells": [
  {
   "cell_type": "code",
   "execution_count": 3,
   "id": "36e3d0eb",
   "metadata": {},
   "outputs": [],
   "source": [
    "import dill\n",
    "with open('bert-large-uncased_base.dill' ,'rb') as f:\n",
    "    a=dill.load(f)\n",
    "with open('bert-base-uncased_whitenoise.dill' ,'rb') as f:\n",
    "    b=dill.load(f)\n",
    "with open('bert-base-uncased_base.dill' ,'rb') as f:\n",
    "    c=dill.load(f)"
   ]
  },
  {
   "cell_type": "code",
   "execution_count": 4,
   "id": "6c601f4b",
   "metadata": {},
   "outputs": [
    {
     "data": {
      "text/plain": [
       "42"
      ]
     },
     "execution_count": 4,
     "metadata": {},
     "output_type": "execute_result"
    }
   ],
   "source": [
    "len(a)+len(b)+len(c)"
   ]
  },
  {
   "cell_type": "code",
   "execution_count": null,
   "id": "71a449eb",
   "metadata": {},
   "outputs": [],
   "source": []
  }
 ],
 "metadata": {
  "kernelspec": {
   "display_name": "Python 3 (ipykernel)",
   "language": "python",
   "name": "python3"
  },
  "language_info": {
   "codemirror_mode": {
    "name": "ipython",
    "version": 3
   },
   "file_extension": ".py",
   "mimetype": "text/x-python",
   "name": "python",
   "nbconvert_exporter": "python",
   "pygments_lexer": "ipython3",
   "version": "3.8.16"
  }
 },
 "nbformat": 4,
 "nbformat_minor": 5
}
